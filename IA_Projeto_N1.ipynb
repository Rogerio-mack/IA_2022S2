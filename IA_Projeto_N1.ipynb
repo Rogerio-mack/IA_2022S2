{
  "nbformat": 4,
  "nbformat_minor": 0,
  "metadata": {
    "kernelspec": {
      "display_name": "Python 3",
      "language": "python",
      "name": "python3"
    },
    "language_info": {
      "codemirror_mode": {
        "name": "ipython",
        "version": 3
      },
      "file_extension": ".py",
      "mimetype": "text/x-python",
      "name": "python",
      "nbconvert_exporter": "python",
      "pygments_lexer": "ipython3",
      "version": "3.7.4"
    },
    "colab": {
      "provenance": [],
      "collapsed_sections": [],
      "include_colab_link": true
    }
  },
  "cells": [
    {
      "cell_type": "markdown",
      "metadata": {
        "id": "view-in-github",
        "colab_type": "text"
      },
      "source": [
        "<a href=\"https://colab.research.google.com/github/Rogerio-mack/IA_2022S2/blob/main/IA_Projeto_N1.ipynb\" target=\"_parent\"><img src=\"https://colab.research.google.com/assets/colab-badge.svg\" alt=\"Open In Colab\"/></a>"
      ]
    },
    {
      "cell_type": "markdown",
      "metadata": {
        "id": "40b90843"
      },
      "source": [
        "<img src=\"http://meusite.mackenzie.br/rogerio/mackenzie_logo/UPM.2_horizontal_vermelho.jpg\"  width=300, align=\"right\">\n",
        "<br>\n",
        "<br>\n",
        "<br>\n",
        "<br>\n",
        "<br>\n",
        "\n",
        "# ***Título do seu projeto***\n",
        "---"
      ]
    },
    {
      "cell_type": "markdown",
      "source": [
        "*Siga esse template para entrega do seu projeto.*"
      ],
      "metadata": {
        "id": "Ikv-pBzr9bNu"
      }
    },
    {
      "cell_type": "code",
      "metadata": {
        "id": "rYx9D4GZA5o9",
        "cellView": "form"
      },
      "source": [
        "#@title Identificação do Grupo\n",
        "\n",
        "#@markdown Turma **7N**\n",
        "\n",
        "#@markdown Integrantes do Grupo (*informe \\<TIA\\>,\\<nome\\>*)\n",
        "Aluno1 = '1115665, Adriana Fujita' #@param {type:\"string\"} \n",
        "Aluno2 = '1115677, Daniel Henrique' #@param {type:\"string\"}\n",
        "Aluno3 = 'None' #@param {type:\"string\"}\n",
        "Aluno4 = 'None' #@param {type:\"string\"}\n",
        "Aluno5 = 'None' #@param {type:\"string\"}\n",
        "\n"
      ],
      "execution_count": null,
      "outputs": []
    },
    {
      "cell_type": "markdown",
      "metadata": {
        "id": "A4-f8AtfKAn2"
      },
      "source": [
        "# Apresentação do Trabalho\n",
        "\n",
        "*Apresente resumidamente o propósito do seu trabalho.* (máx 5 linhas)"
      ]
    },
    {
      "cell_type": "code",
      "source": [
        "#@markdown Escolha as alternativas que julgar necessário:\n",
        "#@markdown > Tipo de Problema\n",
        "Classificacao = False #@param {type:\"boolean\"}\n",
        "Regressao = False #@param {type:\"boolean\"}\n",
        "Processamento_de_Linguagem_Natural= False #@param {type:\"boolean\"} \n",
        "Processamento_de_Imagem_Video = False #@param {type:\"boolean\"}\n",
        "Deteccao_Anomalia = False #@param {type:\"boolean\"}\n",
        "Clusterizacao = False #@param {type:\"boolean\"}\n",
        "Nenhum_Acima = False #@param {type:\"boolean\"}"
      ],
      "metadata": {
        "cellView": "form",
        "id": "WHSEcf21HH8n"
      },
      "execution_count": null,
      "outputs": []
    },
    {
      "cell_type": "markdown",
      "metadata": {
        "id": "_fBLrFU5Dawl"
      },
      "source": [
        "# Justificativa\n",
        "\n",
        "*Apresente por que o seu trabalho é de interesse. É um tema atual? Tem algum impacto relevante?* (máx 10 linhas)"
      ]
    },
    {
      "cell_type": "code",
      "source": [
        "#@markdown Escolha as alternativas que julgar necessário:\n",
        "Tema_Atual = False #@param {type:\"boolean\"}\n",
        "Impacto_Social_Ambiental = False #@param {type:\"boolean\"}\n",
        "Caso_Real_Proprio = False #@param {type:\"boolean\"}\n",
        "Inovacao = False #@param {type:\"boolean\"}\n",
        "Novos_Paradigmas_de_IA = False #@param {type:\"boolean\"}\n",
        "Aplicacao_Pratica = False #@param {type:\"boolean\"}\n",
        "Nenhum_Acima = False #@param {type:\"boolean\"}"
      ],
      "metadata": {
        "cellView": "form",
        "id": "9gW6E7UfE9tl"
      },
      "execution_count": null,
      "outputs": []
    },
    {
      "cell_type": "markdown",
      "source": [
        "# Referencial Teórico\n",
        "\n",
        "*Apresente aqui referências que pretende empregar. Cite livros, artigos, links internet.* "
      ],
      "metadata": {
        "id": "7LtXrRFr4hg3"
      }
    },
    {
      "cell_type": "code",
      "source": [
        "#@markdown Escolha as alternativas que julgar necessário:\n",
        "Livro = False #@param {type:\"boolean\"}\n",
        "Artigo = False #@param {type:\"boolean\"}\n",
        "Internet = False #@param {type:\"boolean\"}\n",
        "Nenhum_Acima = False #@param {type:\"boolean\"}"
      ],
      "metadata": {
        "cellView": "form",
        "id": "uBuA4cpzF87s"
      },
      "execution_count": null,
      "outputs": []
    },
    {
      "cell_type": "markdown",
      "metadata": {
        "id": "xGFJyOm1Kdtd"
      },
      "source": [
        "# Base de Dados \n",
        "\n",
        "*Descreva aqui os dados que serão utilizados e indique a fonte.* \n",
        "\n",
        "\n",
        "\n"
      ]
    },
    {
      "cell_type": "code",
      "source": [
        "#@markdown Escolha as alternativas que julgar necessário:\n",
        "\n",
        "#@markdown > Fonte \n",
        "Base_Propria_Original = False #@param {type:\"boolean\"}\n",
        "Base_Publica_Tratada = False #@param {type:\"boolean\"}\n",
        "Base_Kaggle_Similares = False #@param {type:\"boolean\"}\n",
        "Nenhum_Acima = False #@param {type:\"boolean\"}\n",
        "#@markdown > Tipo de Dado\n",
        "Base_Dados_Tabulares = False #@param {type:\"boolean\"}\n",
        "Base_Dados_Texto = False #@param {type:\"boolean\"}\n",
        "Base_Dados_Imagem = False #@param {type:\"boolean\"}\n",
        "Base_Dados_Video = False #@param {type:\"boolean\"}\n",
        "Nenhum_Acima = False #@param {type:\"boolean\"}\n",
        "#@markdown > Volume\n",
        "Base_Dados_KB = False #@param {type:\"boolean\"}\n",
        "Base_Dados_MB = False #@param {type:\"boolean\"}\n",
        "Base_Dados_GB = False #@param {type:\"boolean\"}\n",
        "\n"
      ],
      "metadata": {
        "cellView": "form",
        "id": "PAlLGC5JGLzt"
      },
      "execution_count": null,
      "outputs": []
    },
    {
      "cell_type": "markdown",
      "metadata": {
        "id": "c8-GAboQLMaN"
      },
      "source": [
        "# Metodologia  \n",
        "\n",
        "*Descreva que frameworks ou ferramentas pretende empregar.*\n"
      ]
    },
    {
      "cell_type": "code",
      "source": [
        "#@markdown Escolha as alternativas que julgar necessário:\n",
        "\n",
        "Scikit_learn = False #@param {type:\"boolean\"}\n",
        "TensorFlow = False #@param {type:\"boolean\"}\n",
        "PyTorch = False #@param {type:\"boolean\"}\n",
        "Outro = False #@param {type:\"boolean\"}\n",
        "\n"
      ],
      "metadata": {
        "cellView": "form",
        "id": "2HG1xH6mIxY_"
      },
      "execution_count": null,
      "outputs": []
    },
    {
      "cell_type": "code",
      "metadata": {
        "id": "BluFtfHuCGzm",
        "cellView": "form"
      },
      "source": [
        "#@title Avaliação\n",
        "Completo = 10 #@param {type:\"slider\", min:0, max:10, step:1}\n",
        "#@markdown Cumpre todos os itens pedidos. \n",
        "Relevancia = 9 #@param {type:\"slider\", min:0, max:10, step:1}\n",
        "#@markdown Problema relevante e justificado. \n",
        "Tecnicas = 6 #@param {type:\"slider\", min:0, max:10, step:1}\n",
        "#@markdown Técnicas propostas adequadas.\n",
        "Apresentacao = 7 #@param {type:\"slider\", min:0, max:10, step:1}\n",
        "#@markdown Apresentação clara e objetiva.\n",
        "Analise = 8 #@param {type:\"slider\", min:0, max:10, step:1}\n",
        "#@markdown Análise Geral. \n",
        "Conclusao = 7 #@param {type:\"slider\", min:0, max:10, step:1}\n",
        "#@markdown Conclusão.\n",
        "Bonus = 0 #@param {type:\"slider\", min:0, max:1, step:0.5}\n",
        "#@markdown A critério do professor por inovações na abordagem.\n",
        "\n",
        "\n",
        "\n",
        "\n",
        "\n"
      ],
      "execution_count": null,
      "outputs": []
    },
    {
      "cell_type": "code",
      "metadata": {
        "colab": {
          "base_uri": "https://localhost:8080/",
          "height": 147
        },
        "id": "2Gqw7hUZHyle",
        "cellView": "form",
        "outputId": "7bf04cb6-3a60-4c08-8944-c80f302bcd13"
      },
      "source": [
        "#@markdown ### Nota Final\n",
        "nota = Completo + Relevancia + Tecnicas + Apresentacao + Analise + Conclusao \n",
        "\n",
        "nota = nota / 6 + Bonus\n",
        "\n",
        "print(f'Nota final do trabalho {nota :.1f}')\n",
        "\n",
        "import numpy as np\n",
        "import pandas as pd\n",
        "\n",
        "alunos = pd.DataFrame()\n",
        "\n",
        "lista_tia = []\n",
        "lista_nome = []\n",
        "\n",
        "for i in range(1,6):\n",
        "  exec(\"if Aluno\" + str(i) + \" !='None':  lista = Aluno\" + str(i) + \".split(','); lista_tia.append(lista[0]); lista_nome.append(lista[1].upper())\")\n",
        "\n",
        "alunos['tia'] = lista_tia\n",
        "alunos['nome'] = lista_nome\n",
        "alunos['nota'] = np.round(nota,1)\n",
        "print()\n",
        "alunos"
      ],
      "execution_count": null,
      "outputs": [
        {
          "output_type": "stream",
          "name": "stdout",
          "text": [
            "Nota final do trabalho 7.8\n",
            "\n"
          ]
        },
        {
          "output_type": "execute_result",
          "data": {
            "text/plain": [
              "       tia              nome  nota\n",
              "0  1115665    ADRIANA FUJITA   7.8\n",
              "1  1115677   DANIEL HENRIQUE   7.8"
            ],
            "text/html": [
              "\n",
              "  <div id=\"df-53c50a13-219a-4c07-933e-81630ad74923\">\n",
              "    <div class=\"colab-df-container\">\n",
              "      <div>\n",
              "<style scoped>\n",
              "    .dataframe tbody tr th:only-of-type {\n",
              "        vertical-align: middle;\n",
              "    }\n",
              "\n",
              "    .dataframe tbody tr th {\n",
              "        vertical-align: top;\n",
              "    }\n",
              "\n",
              "    .dataframe thead th {\n",
              "        text-align: right;\n",
              "    }\n",
              "</style>\n",
              "<table border=\"1\" class=\"dataframe\">\n",
              "  <thead>\n",
              "    <tr style=\"text-align: right;\">\n",
              "      <th></th>\n",
              "      <th>tia</th>\n",
              "      <th>nome</th>\n",
              "      <th>nota</th>\n",
              "    </tr>\n",
              "  </thead>\n",
              "  <tbody>\n",
              "    <tr>\n",
              "      <th>0</th>\n",
              "      <td>1115665</td>\n",
              "      <td>ADRIANA FUJITA</td>\n",
              "      <td>7.8</td>\n",
              "    </tr>\n",
              "    <tr>\n",
              "      <th>1</th>\n",
              "      <td>1115677</td>\n",
              "      <td>DANIEL HENRIQUE</td>\n",
              "      <td>7.8</td>\n",
              "    </tr>\n",
              "  </tbody>\n",
              "</table>\n",
              "</div>\n",
              "      <button class=\"colab-df-convert\" onclick=\"convertToInteractive('df-53c50a13-219a-4c07-933e-81630ad74923')\"\n",
              "              title=\"Convert this dataframe to an interactive table.\"\n",
              "              style=\"display:none;\">\n",
              "        \n",
              "  <svg xmlns=\"http://www.w3.org/2000/svg\" height=\"24px\"viewBox=\"0 0 24 24\"\n",
              "       width=\"24px\">\n",
              "    <path d=\"M0 0h24v24H0V0z\" fill=\"none\"/>\n",
              "    <path d=\"M18.56 5.44l.94 2.06.94-2.06 2.06-.94-2.06-.94-.94-2.06-.94 2.06-2.06.94zm-11 1L8.5 8.5l.94-2.06 2.06-.94-2.06-.94L8.5 2.5l-.94 2.06-2.06.94zm10 10l.94 2.06.94-2.06 2.06-.94-2.06-.94-.94-2.06-.94 2.06-2.06.94z\"/><path d=\"M17.41 7.96l-1.37-1.37c-.4-.4-.92-.59-1.43-.59-.52 0-1.04.2-1.43.59L10.3 9.45l-7.72 7.72c-.78.78-.78 2.05 0 2.83L4 21.41c.39.39.9.59 1.41.59.51 0 1.02-.2 1.41-.59l7.78-7.78 2.81-2.81c.8-.78.8-2.07 0-2.86zM5.41 20L4 18.59l7.72-7.72 1.47 1.35L5.41 20z\"/>\n",
              "  </svg>\n",
              "      </button>\n",
              "      \n",
              "  <style>\n",
              "    .colab-df-container {\n",
              "      display:flex;\n",
              "      flex-wrap:wrap;\n",
              "      gap: 12px;\n",
              "    }\n",
              "\n",
              "    .colab-df-convert {\n",
              "      background-color: #E8F0FE;\n",
              "      border: none;\n",
              "      border-radius: 50%;\n",
              "      cursor: pointer;\n",
              "      display: none;\n",
              "      fill: #1967D2;\n",
              "      height: 32px;\n",
              "      padding: 0 0 0 0;\n",
              "      width: 32px;\n",
              "    }\n",
              "\n",
              "    .colab-df-convert:hover {\n",
              "      background-color: #E2EBFA;\n",
              "      box-shadow: 0px 1px 2px rgba(60, 64, 67, 0.3), 0px 1px 3px 1px rgba(60, 64, 67, 0.15);\n",
              "      fill: #174EA6;\n",
              "    }\n",
              "\n",
              "    [theme=dark] .colab-df-convert {\n",
              "      background-color: #3B4455;\n",
              "      fill: #D2E3FC;\n",
              "    }\n",
              "\n",
              "    [theme=dark] .colab-df-convert:hover {\n",
              "      background-color: #434B5C;\n",
              "      box-shadow: 0px 1px 3px 1px rgba(0, 0, 0, 0.15);\n",
              "      filter: drop-shadow(0px 1px 2px rgba(0, 0, 0, 0.3));\n",
              "      fill: #FFFFFF;\n",
              "    }\n",
              "  </style>\n",
              "\n",
              "      <script>\n",
              "        const buttonEl =\n",
              "          document.querySelector('#df-53c50a13-219a-4c07-933e-81630ad74923 button.colab-df-convert');\n",
              "        buttonEl.style.display =\n",
              "          google.colab.kernel.accessAllowed ? 'block' : 'none';\n",
              "\n",
              "        async function convertToInteractive(key) {\n",
              "          const element = document.querySelector('#df-53c50a13-219a-4c07-933e-81630ad74923');\n",
              "          const dataTable =\n",
              "            await google.colab.kernel.invokeFunction('convertToInteractive',\n",
              "                                                     [key], {});\n",
              "          if (!dataTable) return;\n",
              "\n",
              "          const docLinkHtml = 'Like what you see? Visit the ' +\n",
              "            '<a target=\"_blank\" href=https://colab.research.google.com/notebooks/data_table.ipynb>data table notebook</a>'\n",
              "            + ' to learn more about interactive tables.';\n",
              "          element.innerHTML = '';\n",
              "          dataTable['output_type'] = 'display_data';\n",
              "          await google.colab.output.renderOutput(dataTable, element);\n",
              "          const docLink = document.createElement('div');\n",
              "          docLink.innerHTML = docLinkHtml;\n",
              "          element.appendChild(docLink);\n",
              "        }\n",
              "      </script>\n",
              "    </div>\n",
              "  </div>\n",
              "  "
            ]
          },
          "metadata": {},
          "execution_count": 16
        }
      ]
    }
  ]
}