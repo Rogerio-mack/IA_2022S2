{
  "cells": [
    {
      "cell_type": "markdown",
      "metadata": {
        "id": "view-in-github",
        "colab_type": "text"
      },
      "source": [
        "<a href=\"https://colab.research.google.com/github/Rogerio-mack/IA_2022S2/blob/main/mlp_penguins_ex.ipynb\" target=\"_parent\"><img src=\"https://colab.research.google.com/assets/colab-badge.svg\" alt=\"Open In Colab\"/></a>"
      ]
    },
    {
      "cell_type": "markdown",
      "metadata": {
        "id": "40b90843"
      },
      "source": [
        "<img src=\"http://meusite.mackenzie.br/rogerio/mackenzie_logo/UPM.2_horizontal_vermelho.jpg\"  width=300, align=\"right\">\n"
      ]
    },
    {
      "cell_type": "markdown",
      "source": [
        "# Lab Multi Layer Perceptron\n",
        "\n",
        "Neste exercício você vai empregar redes MLP do `scikit-learn` para resolver problemas de classificação e regressão sobre a base de dados `penguins`.  Siga os passos e, a seguir, responda o questionário no Moodle."
      ],
      "metadata": {
        "id": "2D9RkEcSdoya"
      }
    },
    {
      "cell_type": "code",
      "source": [
        "import numpy as np\n",
        "import pandas as pd\n",
        "import matplotlib.pyplot as plt\n",
        "%matplotlib inline\n",
        "import seaborn as sns"
      ],
      "metadata": {
        "id": "lCLrs_gphWec"
      },
      "execution_count": null,
      "outputs": []
    },
    {
      "cell_type": "markdown",
      "source": [
        "# Dados"
      ],
      "metadata": {
        "id": "HzKo4Nd9rAze"
      }
    },
    {
      "cell_type": "code",
      "source": [
        "df = sns.load_dataset('penguins')\n",
        "df.head()"
      ],
      "metadata": {
        "colab": {
          "base_uri": "https://localhost:8080/",
          "height": 206
        },
        "id": "DcofqH1SyTiB",
        "outputId": "65ee5260-69b4-4ce5-b4b3-9957b38c699f"
      },
      "execution_count": null,
      "outputs": [
        {
          "output_type": "execute_result",
          "data": {
            "text/plain": [
              "  species     island  bill_length_mm  bill_depth_mm  flipper_length_mm  \\\n",
              "0  Adelie  Torgersen            39.1           18.7              181.0   \n",
              "1  Adelie  Torgersen            39.5           17.4              186.0   \n",
              "2  Adelie  Torgersen            40.3           18.0              195.0   \n",
              "3  Adelie  Torgersen             NaN            NaN                NaN   \n",
              "4  Adelie  Torgersen            36.7           19.3              193.0   \n",
              "\n",
              "   body_mass_g     sex  \n",
              "0       3750.0    Male  \n",
              "1       3800.0  Female  \n",
              "2       3250.0  Female  \n",
              "3          NaN     NaN  \n",
              "4       3450.0  Female  "
            ],
            "text/html": [
              "\n",
              "  <div id=\"df-32c8386f-57da-4141-8f83-21e6c2784b93\">\n",
              "    <div class=\"colab-df-container\">\n",
              "      <div>\n",
              "<style scoped>\n",
              "    .dataframe tbody tr th:only-of-type {\n",
              "        vertical-align: middle;\n",
              "    }\n",
              "\n",
              "    .dataframe tbody tr th {\n",
              "        vertical-align: top;\n",
              "    }\n",
              "\n",
              "    .dataframe thead th {\n",
              "        text-align: right;\n",
              "    }\n",
              "</style>\n",
              "<table border=\"1\" class=\"dataframe\">\n",
              "  <thead>\n",
              "    <tr style=\"text-align: right;\">\n",
              "      <th></th>\n",
              "      <th>species</th>\n",
              "      <th>island</th>\n",
              "      <th>bill_length_mm</th>\n",
              "      <th>bill_depth_mm</th>\n",
              "      <th>flipper_length_mm</th>\n",
              "      <th>body_mass_g</th>\n",
              "      <th>sex</th>\n",
              "    </tr>\n",
              "  </thead>\n",
              "  <tbody>\n",
              "    <tr>\n",
              "      <th>0</th>\n",
              "      <td>Adelie</td>\n",
              "      <td>Torgersen</td>\n",
              "      <td>39.1</td>\n",
              "      <td>18.7</td>\n",
              "      <td>181.0</td>\n",
              "      <td>3750.0</td>\n",
              "      <td>Male</td>\n",
              "    </tr>\n",
              "    <tr>\n",
              "      <th>1</th>\n",
              "      <td>Adelie</td>\n",
              "      <td>Torgersen</td>\n",
              "      <td>39.5</td>\n",
              "      <td>17.4</td>\n",
              "      <td>186.0</td>\n",
              "      <td>3800.0</td>\n",
              "      <td>Female</td>\n",
              "    </tr>\n",
              "    <tr>\n",
              "      <th>2</th>\n",
              "      <td>Adelie</td>\n",
              "      <td>Torgersen</td>\n",
              "      <td>40.3</td>\n",
              "      <td>18.0</td>\n",
              "      <td>195.0</td>\n",
              "      <td>3250.0</td>\n",
              "      <td>Female</td>\n",
              "    </tr>\n",
              "    <tr>\n",
              "      <th>3</th>\n",
              "      <td>Adelie</td>\n",
              "      <td>Torgersen</td>\n",
              "      <td>NaN</td>\n",
              "      <td>NaN</td>\n",
              "      <td>NaN</td>\n",
              "      <td>NaN</td>\n",
              "      <td>NaN</td>\n",
              "    </tr>\n",
              "    <tr>\n",
              "      <th>4</th>\n",
              "      <td>Adelie</td>\n",
              "      <td>Torgersen</td>\n",
              "      <td>36.7</td>\n",
              "      <td>19.3</td>\n",
              "      <td>193.0</td>\n",
              "      <td>3450.0</td>\n",
              "      <td>Female</td>\n",
              "    </tr>\n",
              "  </tbody>\n",
              "</table>\n",
              "</div>\n",
              "      <button class=\"colab-df-convert\" onclick=\"convertToInteractive('df-32c8386f-57da-4141-8f83-21e6c2784b93')\"\n",
              "              title=\"Convert this dataframe to an interactive table.\"\n",
              "              style=\"display:none;\">\n",
              "        \n",
              "  <svg xmlns=\"http://www.w3.org/2000/svg\" height=\"24px\"viewBox=\"0 0 24 24\"\n",
              "       width=\"24px\">\n",
              "    <path d=\"M0 0h24v24H0V0z\" fill=\"none\"/>\n",
              "    <path d=\"M18.56 5.44l.94 2.06.94-2.06 2.06-.94-2.06-.94-.94-2.06-.94 2.06-2.06.94zm-11 1L8.5 8.5l.94-2.06 2.06-.94-2.06-.94L8.5 2.5l-.94 2.06-2.06.94zm10 10l.94 2.06.94-2.06 2.06-.94-2.06-.94-.94-2.06-.94 2.06-2.06.94z\"/><path d=\"M17.41 7.96l-1.37-1.37c-.4-.4-.92-.59-1.43-.59-.52 0-1.04.2-1.43.59L10.3 9.45l-7.72 7.72c-.78.78-.78 2.05 0 2.83L4 21.41c.39.39.9.59 1.41.59.51 0 1.02-.2 1.41-.59l7.78-7.78 2.81-2.81c.8-.78.8-2.07 0-2.86zM5.41 20L4 18.59l7.72-7.72 1.47 1.35L5.41 20z\"/>\n",
              "  </svg>\n",
              "      </button>\n",
              "      \n",
              "  <style>\n",
              "    .colab-df-container {\n",
              "      display:flex;\n",
              "      flex-wrap:wrap;\n",
              "      gap: 12px;\n",
              "    }\n",
              "\n",
              "    .colab-df-convert {\n",
              "      background-color: #E8F0FE;\n",
              "      border: none;\n",
              "      border-radius: 50%;\n",
              "      cursor: pointer;\n",
              "      display: none;\n",
              "      fill: #1967D2;\n",
              "      height: 32px;\n",
              "      padding: 0 0 0 0;\n",
              "      width: 32px;\n",
              "    }\n",
              "\n",
              "    .colab-df-convert:hover {\n",
              "      background-color: #E2EBFA;\n",
              "      box-shadow: 0px 1px 2px rgba(60, 64, 67, 0.3), 0px 1px 3px 1px rgba(60, 64, 67, 0.15);\n",
              "      fill: #174EA6;\n",
              "    }\n",
              "\n",
              "    [theme=dark] .colab-df-convert {\n",
              "      background-color: #3B4455;\n",
              "      fill: #D2E3FC;\n",
              "    }\n",
              "\n",
              "    [theme=dark] .colab-df-convert:hover {\n",
              "      background-color: #434B5C;\n",
              "      box-shadow: 0px 1px 3px 1px rgba(0, 0, 0, 0.15);\n",
              "      filter: drop-shadow(0px 1px 2px rgba(0, 0, 0, 0.3));\n",
              "      fill: #FFFFFF;\n",
              "    }\n",
              "  </style>\n",
              "\n",
              "      <script>\n",
              "        const buttonEl =\n",
              "          document.querySelector('#df-32c8386f-57da-4141-8f83-21e6c2784b93 button.colab-df-convert');\n",
              "        buttonEl.style.display =\n",
              "          google.colab.kernel.accessAllowed ? 'block' : 'none';\n",
              "\n",
              "        async function convertToInteractive(key) {\n",
              "          const element = document.querySelector('#df-32c8386f-57da-4141-8f83-21e6c2784b93');\n",
              "          const dataTable =\n",
              "            await google.colab.kernel.invokeFunction('convertToInteractive',\n",
              "                                                     [key], {});\n",
              "          if (!dataTable) return;\n",
              "\n",
              "          const docLinkHtml = 'Like what you see? Visit the ' +\n",
              "            '<a target=\"_blank\" href=https://colab.research.google.com/notebooks/data_table.ipynb>data table notebook</a>'\n",
              "            + ' to learn more about interactive tables.';\n",
              "          element.innerHTML = '';\n",
              "          dataTable['output_type'] = 'display_data';\n",
              "          await google.colab.output.renderOutput(dataTable, element);\n",
              "          const docLink = document.createElement('div');\n",
              "          docLink.innerHTML = docLinkHtml;\n",
              "          element.appendChild(docLink);\n",
              "        }\n",
              "      </script>\n",
              "    </div>\n",
              "  </div>\n",
              "  "
            ]
          },
          "metadata": {},
          "execution_count": 15
        }
      ]
    },
    {
      "cell_type": "markdown",
      "source": [
        "# Dropna\n",
        "\n",
        "Verifique e exclua os dados ausentes."
      ],
      "metadata": {
        "id": "bcVr7Q2A-zlg"
      }
    },
    {
      "cell_type": "code",
      "source": [
        "# Seu código"
      ],
      "metadata": {
        "id": "RsV0FCMmp34O"
      },
      "execution_count": null,
      "outputs": []
    },
    {
      "cell_type": "markdown",
      "source": [
        "# Hot Encode\n",
        "\n",
        "Faça o hot enconde de `species` empregando:\n",
        "\n",
        "```\n",
        "from sklearn.preprocessing import OneHotEncoder\n",
        "```"
      ],
      "metadata": {
        "id": "VeDkHr-g-2bK"
      }
    },
    {
      "cell_type": "code",
      "source": [
        "# Seu código"
      ],
      "metadata": {
        "id": "b-Mhiy_J-4OH"
      },
      "execution_count": 1,
      "outputs": []
    },
    {
      "cell_type": "markdown",
      "source": [
        "# Label Encode\n",
        "\n",
        "Faça o Label Encode de `sex` empregando a função `replace()` do `Pandas`. Atribua `1` para `Male` e `0` para `Female`. "
      ],
      "metadata": {
        "id": "VSMh65MW_QEB"
      }
    },
    {
      "cell_type": "code",
      "source": [
        "# Seu código"
      ],
      "metadata": {
        "id": "1kqCUf28_GqR"
      },
      "execution_count": null,
      "outputs": []
    },
    {
      "cell_type": "markdown",
      "source": [
        "# Normalização\n",
        "\n",
        "Empregue:\n",
        "\n",
        "```\n",
        "from sklearn.preprocessing import MinMaxScaler\n",
        "```\n",
        "\n",
        "Para fazer a normalização dos dados:\n",
        "\n",
        "```\n",
        "['bill_length_mm', 'bill_depth_mm',\n",
        "       'flipper_length_mm', 'species_Adelie',\n",
        "       'species_Chinstrap', 'species_Gentoo', 'sex']\n",
        "```\n",
        "\n",
        "Não empregaremos `body_mass_g` nem `island` que são atributos objetivo das seções seguintes. O nome dos atributos ainda pode diferir de acordo com as transformações anteriores que você fez."
      ],
      "metadata": {
        "id": "YcK-bBpC_skN"
      }
    },
    {
      "cell_type": "code",
      "source": [
        "# Seu código"
      ],
      "metadata": {
        "id": "EMLh1ZElpsaM"
      },
      "execution_count": null,
      "outputs": []
    },
    {
      "cell_type": "markdown",
      "source": [
        "# Classificação\n",
        "\n",
        "Empregue os atributos normalizados da seção anterior como variáveis preditoras para implemente um algoritmo MLP para classificação da ilha (`island`) de origem dos pinguins. \n",
        "\n",
        "1. Train/Test Split. Empregue 25% dos dados para teste, `random_state=1` e dados estratificados pelo atributo classe (variável objetivo).\n",
        "2. MLP. Empregue `random_state=1`, uma rede com camadas ocultas de 8, 16 e 8 neurônios respectivamente e número máximo de iterações 1000.\n",
        "\n",
        "Não empregue outros parâmetros além dos solicitados. \n",
        "\n",
        "Ao final produza um `classification report`  e a matriz de confusão para responder as questões. "
      ],
      "metadata": {
        "id": "9Wv0gh26A2I7"
      }
    },
    {
      "cell_type": "code",
      "source": [
        "# Seu código"
      ],
      "metadata": {
        "id": "IyUp04IOppPr"
      },
      "execution_count": null,
      "outputs": []
    },
    {
      "cell_type": "markdown",
      "source": [
        "# Non-Linear Regression\n",
        "\n",
        "Empregue os atributos normalizados da seção anterior como variáveis preditoras para implemente um algoritmo MLP para estimar o valor de `body_mass_g` (você não vai empregar o atributo `island` aqui). \n",
        "\n",
        "1. Train/Test Split. Empregue 25% dos dados para teste, `random_state=1` (para regressão não empregue dados estratificados).\n",
        "2. MLP. Empregue `random_state=1`, uma rede com camadas ocultas de 8, 16 e 8 neurônios respectivamente e número máximo de iterações 2000.\n",
        "\n",
        "Não empregue outros parâmetros além dos solicitados. \n",
        "\n",
        "Ao final obtenha o score do modelo obtido. "
      ],
      "metadata": {
        "id": "MGrLQ6NO_Bow"
      }
    },
    {
      "cell_type": "code",
      "source": [
        "# Seu código"
      ],
      "metadata": {
        "id": "ZEcGfPWJpnOe"
      },
      "execution_count": null,
      "outputs": []
    },
    {
      "cell_type": "markdown",
      "source": [
        "# Predição\n",
        "\n",
        "Empregue os modelos anteriores para fazer a predição de um pinguim modelo da espécie `Gentoo` do sexo masculino. Os demais valores são os valores médios da coleção toda. Faça a predição tanto da ilha de origem como do peso do pinguim modelo."
      ],
      "metadata": {
        "id": "irHvm1EellW7"
      }
    },
    {
      "cell_type": "code",
      "source": [
        "# Seu código"
      ],
      "metadata": {
        "id": "eZAyPZYapi-9"
      },
      "execution_count": null,
      "outputs": []
    },
    {
      "cell_type": "markdown",
      "source": [
        "# Experimente os Modelos Neurais\n",
        "\n",
        "Explore diferentes configurações da rede neural para classificação, por exemplo, aumentando e diminuindo camadas e elementos das camadas."
      ],
      "metadata": {
        "id": "ssdpkecImZuu"
      }
    },
    {
      "cell_type": "code",
      "source": [
        "# Seu código"
      ],
      "metadata": {
        "id": "vskKS0uxpeLf"
      },
      "execution_count": null,
      "outputs": []
    }
  ],
  "metadata": {
    "colab": {
      "provenance": [],
      "collapsed_sections": [],
      "include_colab_link": true
    },
    "kernelspec": {
      "display_name": "Python 3",
      "name": "python3"
    }
  },
  "nbformat": 4,
  "nbformat_minor": 0
}