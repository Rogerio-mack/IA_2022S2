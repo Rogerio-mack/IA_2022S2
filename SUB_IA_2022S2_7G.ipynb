{
  "nbformat": 4,
  "nbformat_minor": 0,
  "metadata": {
    "kernelspec": {
      "display_name": "Python 3",
      "language": "python",
      "name": "python3"
    },
    "language_info": {
      "codemirror_mode": {
        "name": "ipython",
        "version": 3
      },
      "file_extension": ".py",
      "mimetype": "text/x-python",
      "name": "python",
      "nbconvert_exporter": "python",
      "pygments_lexer": "ipython3",
      "version": "3.7.4"
    },
    "colab": {
      "provenance": [],
      "include_colab_link": true
    }
  },
  "cells": [
    {
      "cell_type": "markdown",
      "metadata": {
        "id": "view-in-github",
        "colab_type": "text"
      },
      "source": [
        "<a href=\"https://colab.research.google.com/github/Rogerio-mack/IA_2022S2/blob/main/SUB_IA_2022S2_7G.ipynb\" target=\"_parent\"><img src=\"https://colab.research.google.com/assets/colab-badge.svg\" alt=\"Open In Colab\"/></a>"
      ]
    },
    {
      "cell_type": "markdown",
      "metadata": {
        "id": "J3LMBfpeHTwb"
      },
      "source": [
        "<head>\n",
        "  <meta name=\"author\" content=\"Rogério de Oliveira\">\n",
        "  <meta institution=\"author\" content=\"Universidade Presbiteriana Mackenzie\">\n",
        "</head>\n",
        "\n",
        "<img src=\"http://meusite.mackenzie.br/rogerio/mackenzie_logo/UPM.2_horizontal_vermelho.jpg\" width=300, align=\"right\">\n",
        "<!-- <h1 align=left><font size = 6, style=\"color:rgb(200,0,0)\"> optional title </font></h1> -->\n"
      ]
    },
    {
      "cell_type": "markdown",
      "source": [
        "# SUB IA "
      ],
      "metadata": {
        "id": "rycg-lRshORT"
      }
    },
    {
      "cell_type": "code",
      "source": [
        "import pandas as pd\n",
        "import numpy as np\n",
        "import matplotlib.pyplot as plt\n",
        "%matplotlib inline\n",
        "import seaborn as sns"
      ],
      "metadata": {
        "id": "pL7ye2mQYl9i"
      },
      "execution_count": 3,
      "outputs": []
    },
    {
      "cell_type": "markdown",
      "source": [
        "# Classificação de Tipos de Vidro \n",
        "\n",
        "Vidros de podem ser classificados 7 categorias conforme suas características químicas:\n",
        "\n",
        "* Classe 1: janelas de construção (processadas com flutuação)\n",
        "* Classe 2: janelas de construção (processadas sem flutuação)\n",
        "* Classe 3: janelas do veículo (processadas com flutuação)\n",
        "* Classe 4: janelas do veículo (processadas sem flutuação)\n",
        "* Classe 5: recipientes\n",
        "* Classe 6: talheres\n",
        "* Classe 7: faróis \n",
        "\n",
        "(*algumas classes podem não estar presentes no data-set*).\n",
        "\n",
        "\n",
        "\n",
        "\n",
        "\n"
      ],
      "metadata": {
        "id": "QU8GDCtoeOYH"
      }
    },
    {
      "cell_type": "code",
      "source": [
        "df = pd.read_csv('https://github.com/Rogerio-mack/IA_2022S2/raw/main/glasses.txt')\n",
        "df.head()"
      ],
      "metadata": {
        "colab": {
          "base_uri": "https://localhost:8080/",
          "height": 206
        },
        "id": "6yN2lkECd-nA",
        "outputId": "cc381d96-3535-4c46-f39e-4f272ce4b06a"
      },
      "execution_count": 4,
      "outputs": [
        {
          "output_type": "execute_result",
          "data": {
            "text/plain": [
              "   Id number       RI     Na Mg    Al     Si     K    Ca   Ba   Fe  \\\n",
              "0          1  1.52101  13.64  D  1.10  71.78  0.06  8.75  0.0  0.0   \n",
              "1          2  1.51761  13.89  D  1.36  72.73  0.48  7.83  0.0  0.0   \n",
              "2          3  1.51618  13.53  C  1.54  72.99  0.39  7.78  0.0  0.0   \n",
              "3          4  1.51766  13.21  D  1.29  72.61  0.57  8.22  0.0  0.0   \n",
              "4          5  1.51742  13.27  D  1.24  73.08  0.55  8.07  0.0  0.0   \n",
              "\n",
              "   Type of glass  \n",
              "0              1  \n",
              "1              1  \n",
              "2              1  \n",
              "3              1  \n",
              "4              1  "
            ],
            "text/html": [
              "\n",
              "  <div id=\"df-545c2405-fc3c-4eb2-aa08-3a11d6e28590\">\n",
              "    <div class=\"colab-df-container\">\n",
              "      <div>\n",
              "<style scoped>\n",
              "    .dataframe tbody tr th:only-of-type {\n",
              "        vertical-align: middle;\n",
              "    }\n",
              "\n",
              "    .dataframe tbody tr th {\n",
              "        vertical-align: top;\n",
              "    }\n",
              "\n",
              "    .dataframe thead th {\n",
              "        text-align: right;\n",
              "    }\n",
              "</style>\n",
              "<table border=\"1\" class=\"dataframe\">\n",
              "  <thead>\n",
              "    <tr style=\"text-align: right;\">\n",
              "      <th></th>\n",
              "      <th>Id number</th>\n",
              "      <th>RI</th>\n",
              "      <th>Na</th>\n",
              "      <th>Mg</th>\n",
              "      <th>Al</th>\n",
              "      <th>Si</th>\n",
              "      <th>K</th>\n",
              "      <th>Ca</th>\n",
              "      <th>Ba</th>\n",
              "      <th>Fe</th>\n",
              "      <th>Type of glass</th>\n",
              "    </tr>\n",
              "  </thead>\n",
              "  <tbody>\n",
              "    <tr>\n",
              "      <th>0</th>\n",
              "      <td>1</td>\n",
              "      <td>1.52101</td>\n",
              "      <td>13.64</td>\n",
              "      <td>D</td>\n",
              "      <td>1.10</td>\n",
              "      <td>71.78</td>\n",
              "      <td>0.06</td>\n",
              "      <td>8.75</td>\n",
              "      <td>0.0</td>\n",
              "      <td>0.0</td>\n",
              "      <td>1</td>\n",
              "    </tr>\n",
              "    <tr>\n",
              "      <th>1</th>\n",
              "      <td>2</td>\n",
              "      <td>1.51761</td>\n",
              "      <td>13.89</td>\n",
              "      <td>D</td>\n",
              "      <td>1.36</td>\n",
              "      <td>72.73</td>\n",
              "      <td>0.48</td>\n",
              "      <td>7.83</td>\n",
              "      <td>0.0</td>\n",
              "      <td>0.0</td>\n",
              "      <td>1</td>\n",
              "    </tr>\n",
              "    <tr>\n",
              "      <th>2</th>\n",
              "      <td>3</td>\n",
              "      <td>1.51618</td>\n",
              "      <td>13.53</td>\n",
              "      <td>C</td>\n",
              "      <td>1.54</td>\n",
              "      <td>72.99</td>\n",
              "      <td>0.39</td>\n",
              "      <td>7.78</td>\n",
              "      <td>0.0</td>\n",
              "      <td>0.0</td>\n",
              "      <td>1</td>\n",
              "    </tr>\n",
              "    <tr>\n",
              "      <th>3</th>\n",
              "      <td>4</td>\n",
              "      <td>1.51766</td>\n",
              "      <td>13.21</td>\n",
              "      <td>D</td>\n",
              "      <td>1.29</td>\n",
              "      <td>72.61</td>\n",
              "      <td>0.57</td>\n",
              "      <td>8.22</td>\n",
              "      <td>0.0</td>\n",
              "      <td>0.0</td>\n",
              "      <td>1</td>\n",
              "    </tr>\n",
              "    <tr>\n",
              "      <th>4</th>\n",
              "      <td>5</td>\n",
              "      <td>1.51742</td>\n",
              "      <td>13.27</td>\n",
              "      <td>D</td>\n",
              "      <td>1.24</td>\n",
              "      <td>73.08</td>\n",
              "      <td>0.55</td>\n",
              "      <td>8.07</td>\n",
              "      <td>0.0</td>\n",
              "      <td>0.0</td>\n",
              "      <td>1</td>\n",
              "    </tr>\n",
              "  </tbody>\n",
              "</table>\n",
              "</div>\n",
              "      <button class=\"colab-df-convert\" onclick=\"convertToInteractive('df-545c2405-fc3c-4eb2-aa08-3a11d6e28590')\"\n",
              "              title=\"Convert this dataframe to an interactive table.\"\n",
              "              style=\"display:none;\">\n",
              "        \n",
              "  <svg xmlns=\"http://www.w3.org/2000/svg\" height=\"24px\"viewBox=\"0 0 24 24\"\n",
              "       width=\"24px\">\n",
              "    <path d=\"M0 0h24v24H0V0z\" fill=\"none\"/>\n",
              "    <path d=\"M18.56 5.44l.94 2.06.94-2.06 2.06-.94-2.06-.94-.94-2.06-.94 2.06-2.06.94zm-11 1L8.5 8.5l.94-2.06 2.06-.94-2.06-.94L8.5 2.5l-.94 2.06-2.06.94zm10 10l.94 2.06.94-2.06 2.06-.94-2.06-.94-.94-2.06-.94 2.06-2.06.94z\"/><path d=\"M17.41 7.96l-1.37-1.37c-.4-.4-.92-.59-1.43-.59-.52 0-1.04.2-1.43.59L10.3 9.45l-7.72 7.72c-.78.78-.78 2.05 0 2.83L4 21.41c.39.39.9.59 1.41.59.51 0 1.02-.2 1.41-.59l7.78-7.78 2.81-2.81c.8-.78.8-2.07 0-2.86zM5.41 20L4 18.59l7.72-7.72 1.47 1.35L5.41 20z\"/>\n",
              "  </svg>\n",
              "      </button>\n",
              "      \n",
              "  <style>\n",
              "    .colab-df-container {\n",
              "      display:flex;\n",
              "      flex-wrap:wrap;\n",
              "      gap: 12px;\n",
              "    }\n",
              "\n",
              "    .colab-df-convert {\n",
              "      background-color: #E8F0FE;\n",
              "      border: none;\n",
              "      border-radius: 50%;\n",
              "      cursor: pointer;\n",
              "      display: none;\n",
              "      fill: #1967D2;\n",
              "      height: 32px;\n",
              "      padding: 0 0 0 0;\n",
              "      width: 32px;\n",
              "    }\n",
              "\n",
              "    .colab-df-convert:hover {\n",
              "      background-color: #E2EBFA;\n",
              "      box-shadow: 0px 1px 2px rgba(60, 64, 67, 0.3), 0px 1px 3px 1px rgba(60, 64, 67, 0.15);\n",
              "      fill: #174EA6;\n",
              "    }\n",
              "\n",
              "    [theme=dark] .colab-df-convert {\n",
              "      background-color: #3B4455;\n",
              "      fill: #D2E3FC;\n",
              "    }\n",
              "\n",
              "    [theme=dark] .colab-df-convert:hover {\n",
              "      background-color: #434B5C;\n",
              "      box-shadow: 0px 1px 3px 1px rgba(0, 0, 0, 0.15);\n",
              "      filter: drop-shadow(0px 1px 2px rgba(0, 0, 0, 0.3));\n",
              "      fill: #FFFFFF;\n",
              "    }\n",
              "  </style>\n",
              "\n",
              "      <script>\n",
              "        const buttonEl =\n",
              "          document.querySelector('#df-545c2405-fc3c-4eb2-aa08-3a11d6e28590 button.colab-df-convert');\n",
              "        buttonEl.style.display =\n",
              "          google.colab.kernel.accessAllowed ? 'block' : 'none';\n",
              "\n",
              "        async function convertToInteractive(key) {\n",
              "          const element = document.querySelector('#df-545c2405-fc3c-4eb2-aa08-3a11d6e28590');\n",
              "          const dataTable =\n",
              "            await google.colab.kernel.invokeFunction('convertToInteractive',\n",
              "                                                     [key], {});\n",
              "          if (!dataTable) return;\n",
              "\n",
              "          const docLinkHtml = 'Like what you see? Visit the ' +\n",
              "            '<a target=\"_blank\" href=https://colab.research.google.com/notebooks/data_table.ipynb>data table notebook</a>'\n",
              "            + ' to learn more about interactive tables.';\n",
              "          element.innerHTML = '';\n",
              "          dataTable['output_type'] = 'display_data';\n",
              "          await google.colab.output.renderOutput(dataTable, element);\n",
              "          const docLink = document.createElement('div');\n",
              "          docLink.innerHTML = docLinkHtml;\n",
              "          element.appendChild(docLink);\n",
              "        }\n",
              "      </script>\n",
              "    </div>\n",
              "  </div>\n",
              "  "
            ]
          },
          "metadata": {},
          "execution_count": 4
        }
      ]
    },
    {
      "cell_type": "markdown",
      "source": [
        "# Exercício 1 (`Keras/TensorFlow`) \n",
        "\n",
        "Aqui interessa podermos classificar os vidros para efeito de reciclagem em 3 categorias:\n",
        "\n",
        "* **C = Vidros de Construção**\n",
        "* **V = Vidros de Veículos**\n",
        "* **O = Outros**\n",
        "\n",
        "Explore e analise os dados e, em seguida, crie um modelo de **Classificação com o Keras/TensorFlow** que apresente um resultado de acuracidade > 0.8. Aplique aqui as boas práticas que achar necessário (encodes, normalização etc.). As seções abaixo são apenas de sugestão."
      ],
      "metadata": {
        "id": "2jZAfP2wcYn4"
      }
    },
    {
      "cell_type": "markdown",
      "source": [
        "## Reclassifique os dados\n",
        "\n",
        "Reclassifique `Type of glass` para os valores 'C', 'V' e 'O'. Sugestão: empregue o `Pandas` `replace()`."
      ],
      "metadata": {
        "id": "nj_Uq7vhclcq"
      }
    },
    {
      "cell_type": "code",
      "source": [
        "# seu código\n"
      ],
      "metadata": {
        "id": "PQj2fPdfTmvX"
      },
      "execution_count": 5,
      "outputs": []
    },
    {
      "cell_type": "markdown",
      "source": [
        "## Hot Encode\n",
        "\n",
        "Faça o Hot Encode dos atributos necessários."
      ],
      "metadata": {
        "id": "BQoV_PxudIIu"
      }
    },
    {
      "cell_type": "code",
      "source": [
        "# seu código\n",
        "from sklearn.preprocessing import OneHotEncoder, LabelEncoder\n",
        "\n"
      ],
      "metadata": {
        "id": "nyH1dYQlR2cv"
      },
      "execution_count": null,
      "outputs": []
    },
    {
      "cell_type": "markdown",
      "source": [
        "## Defina as Entradas e Saída do modelo"
      ],
      "metadata": {
        "id": "scfROlRVdTwI"
      }
    },
    {
      "cell_type": "code",
      "source": [
        "# seu código\n",
        "X = ...\n",
        "y = ..."
      ],
      "metadata": {
        "id": "49sKNoaVUq1-"
      },
      "execution_count": 7,
      "outputs": []
    },
    {
      "cell_type": "markdown",
      "source": [
        "## Faça a normalização dos dados"
      ],
      "metadata": {
        "id": "LV3Zptkmdr5g"
      }
    },
    {
      "cell_type": "code",
      "source": [
        "# seu código\n",
        "from sklearn.preprocessing import StandardScaler\n",
        "\n"
      ],
      "metadata": {
        "id": "KEEPXjLOUfyo"
      },
      "execution_count": 8,
      "outputs": []
    },
    {
      "cell_type": "markdown",
      "source": [
        "## Separe o conjunto de Treinamento e Teste"
      ],
      "metadata": {
        "id": "0Hb3wj08dwno"
      }
    },
    {
      "cell_type": "code",
      "source": [
        "# seu código\n",
        "from sklearn.model_selection import train_test_split\n",
        "\n",
        "X_train, X_test, y_train, y_test = train_test_split(..."
      ],
      "metadata": {
        "id": "0bqyP_hmVHkj"
      },
      "execution_count": 9,
      "outputs": []
    },
    {
      "cell_type": "markdown",
      "source": [
        "## Treine seu modelo neural Keras/TensorFlow"
      ],
      "metadata": {
        "id": "0Cpee_2Yd0ly"
      }
    },
    {
      "cell_type": "code",
      "source": [
        "# seu código\n",
        "from tensorflow import keras\n",
        "from tensorflow.keras import layers\n",
        "from keras import Sequential, layers\n",
        "import tensorflow as tf\n",
        "\n",
        "# Net config \n",
        "model = ...\n",
        "\n",
        "# Train config\n",
        "model.compile(...\n",
        "\n",
        "# Treinamento\n",
        "history = model.fit(...)"
      ],
      "metadata": {
        "id": "l20T6a8cVRwH"
      },
      "execution_count": null,
      "outputs": []
    },
    {
      "cell_type": "markdown",
      "source": [
        "## Exiba a estrutura do modelo"
      ],
      "metadata": {
        "id": "mlv34FbWd7po"
      }
    },
    {
      "cell_type": "code",
      "source": [
        "# resolvido\n",
        "model.summary()"
      ],
      "metadata": {
        "id": "HbdfjjzJd8og"
      },
      "execution_count": null,
      "outputs": []
    },
    {
      "cell_type": "markdown",
      "source": [
        "## Avalie o `score` do modelo sobre o conjunto de teste"
      ],
      "metadata": {
        "id": "a1Syt5ZdeGtg"
      }
    },
    {
      "cell_type": "code",
      "source": [
        "# seu código\n",
        "score = model.evaluate(..."
      ],
      "metadata": {
        "id": "RWsTZpRhV1pP"
      },
      "execution_count": null,
      "outputs": []
    },
    {
      "cell_type": "markdown",
      "source": [
        "# Exercício 2 (`AgglomerativeClustering`)"
      ],
      "metadata": {
        "id": "EfrsBDZFeRHQ"
      }
    },
    {
      "cell_type": "markdown",
      "source": [
        "Aqui você vai criar agrupamentos dos vidros considerando os dados `X` do exercício anterior. Caso você tenha *pulado* o exercício anterior, vai empregar apenas os dados da composição dos diferentes tipos de vidro normalizada. Empregue a **clusterização hierárquica**."
      ],
      "metadata": {
        "id": "rPAF3vd4eg6Q"
      }
    },
    {
      "cell_type": "markdown",
      "source": [
        "## (2a) Encontre o melhor número de Clusters pelo critério da medida *silhouette*. "
      ],
      "metadata": {
        "id": "EvzhPAJ6fB7h"
      }
    },
    {
      "cell_type": "code",
      "source": [
        "# seu código\n",
        "from sklearn.cluster import AgglomerativeClustering\n",
        "from sklearn import metrics \n"
      ],
      "metadata": {
        "id": "UWB04CJsXGSg"
      },
      "execution_count": null,
      "outputs": []
    },
    {
      "cell_type": "markdown",
      "source": [
        "## (2b) Faça a clusterização pelo número de clusters obtido em (2a)"
      ],
      "metadata": {
        "id": "QKEO_6ANfVYI"
      }
    },
    {
      "cell_type": "code",
      "source": [
        "# seu código\n",
        "...\n",
        "\n",
        "clf.fit(X)\n",
        "  \n",
        "df['labels'] = clf.labels_\n",
        "\n"
      ],
      "metadata": {
        "id": "xgYligIMXvIf"
      },
      "execution_count": 18,
      "outputs": []
    },
    {
      "cell_type": "markdown",
      "source": [
        "## (2c) Qual a quantidade de elementos em cada grupo? Responda em um texto abaixo: Você considera boa essa distribuição? Justifique."
      ],
      "metadata": {
        "id": "THMJDwztfe4Y"
      }
    },
    {
      "cell_type": "code",
      "source": [
        "# seu código\n",
        "..."
      ],
      "metadata": {
        "id": "dUtYOLwSYKnQ"
      },
      "execution_count": null,
      "outputs": []
    },
    {
      "cell_type": "markdown",
      "source": [
        "*Coloque aqui sua resposta à pergunta* "
      ],
      "metadata": {
        "id": "o37j8FIefv6o"
      }
    },
    {
      "cell_type": "markdown",
      "source": [
        "## (2d) Qual o grupo em que o vidro apresenta maior concentração de ferro."
      ],
      "metadata": {
        "id": "ZTDlX65wf4ix"
      }
    },
    {
      "cell_type": "code",
      "source": [
        "# seu código\n",
        "..."
      ],
      "metadata": {
        "id": "RkAp4t6GX0m3"
      },
      "execution_count": null,
      "outputs": []
    }
  ]
}